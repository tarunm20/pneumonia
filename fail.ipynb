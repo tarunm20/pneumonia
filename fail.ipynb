{
 "cells": [
  {
   "cell_type": "code",
   "execution_count": 1,
   "metadata": {},
   "outputs": [],
   "source": [
    "import tensorflow as tf\n",
    "from tensorflow import keras\n",
    "\n",
    "import os\n",
    "import cv2\n",
    "import numpy as np\n",
    "import matplotlib.pyplot as plt\n",
    "\n",
    "pneumonia_path = \"/Users/tarunmurugan/Documents/CodeStuff/Python/Projects/pneumonia/chest_xray/test/PNEUMONIA\"\n",
    "normal_path = \"/Users/tarunmurugan/Documents/CodeStuff/Python/Projects/pneumonia/chest_xray/test/NORMAL\""
   ]
  },
  {
   "cell_type": "code",
   "execution_count": 2,
   "metadata": {},
   "outputs": [],
   "source": [
    "def getData(folder, notNormal):\n",
    "    images = []\n",
    "    labels = []\n",
    "    if notNormal:\n",
    "        for filename in os.listdir(folder):\n",
    "            label = filename.find(\"virus\")\n",
    "            if label == -1:\n",
    "                label = 2\n",
    "            else:\n",
    "                label = 1\n",
    "            img = cv2.imread(os.path.join(folder,filename))\n",
    "            if img is not None:\n",
    "                images.append(img)\n",
    "                labels.append(label)\n",
    "    else:\n",
    "        for filename in os.listdir(folder):\n",
    "            label = 0\n",
    "            img = cv2.imread(os.path.join(folder,filename))\n",
    "            if img is not None:\n",
    "                images.append(img)\n",
    "                labels.append(label)\n",
    "    return (images, labels)"
   ]
  },
  {
   "cell_type": "code",
   "execution_count": 3,
   "metadata": {},
   "outputs": [],
   "source": [
    "pneumonia_data, pneumonia_labels = getData(pneumonia_path, True)"
   ]
  },
  {
   "cell_type": "code",
   "execution_count": 4,
   "metadata": {},
   "outputs": [],
   "source": [
    "normal_data, normal_labels = getData(normal_path, False)"
   ]
  },
  {
   "cell_type": "code",
   "execution_count": 5,
   "metadata": {},
   "outputs": [],
   "source": [
    "test_pneumonia_data = pneumonia_data[:len(pneumonia_data)//2]\n",
    "test_pneumonia_labels = pneumonia_labels[:len(pneumonia_labels)//2]\n",
    "test_normal_data = normal_data[:len(normal_data)//2]\n",
    "test_normal_labels = normal_labels[:len(normal_labels)//2]\n",
    "\n",
    "train_pneumonia_data = pneumonia_data[len(pneumonia_data)//2:]\n",
    "train_pneumonia_labels = pneumonia_labels[len(pneumonia_labels)//2:]\n",
    "train_normal_data = normal_data[len(normal_data)//2:]\n",
    "train_normal_labels = normal_labels[len(normal_labels)//2:]"
   ]
  }
 ],
 "metadata": {
  "kernelspec": {
   "display_name": "Python 3",
   "language": "python",
   "name": "python3"
  },
  "language_info": {
   "codemirror_mode": {
    "name": "ipython",
    "version": 3
   },
   "file_extension": ".py",
   "mimetype": "text/x-python",
   "name": "python",
   "nbconvert_exporter": "python",
   "pygments_lexer": "ipython3",
   "version": "3.7.4-final"
  }
 },
 "nbformat": 4,
 "nbformat_minor": 4
}